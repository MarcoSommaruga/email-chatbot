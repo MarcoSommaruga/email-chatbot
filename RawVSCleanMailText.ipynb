{
 "cells": [
  {
   "cell_type": "code",
   "execution_count": 8,
   "id": "b1818f29",
   "metadata": {},
   "outputs": [
    {
     "name": "stdout",
     "output_type": "stream",
     "text": [
      "Similarità media (originali): 0.1531\n",
      "Similarità media (pulite): 0.1535\n",
      "\n",
      "Top 3 email (originali):\n",
      "- Similarità: 0.5559 | Estratto: Verifica la tua email\n",
      " \n",
      "Dobbiamo verificare il tuo indirizzo email marcofrancescosommaruga@gmail.c...\n",
      "- Similarità: 0.3569 | Estratto: Accedi a Streamlit Community Cloud\n",
      " \n",
      "Hai richiesto di accedere a Streamlit Community Cloud. Il tuo...\n",
      "- Similarità: 0.3141 | Estratto: Buongiorno,\n",
      "\n",
      "Chiedo conferma che i documenti inviati siano ora leggibili e novità sui tempi di res...\n",
      "\n",
      "Top 3 email (pulite):\n",
      "- Similarità: 0.5559 | Estratto: Verifica la tua email Dobbiamo verificare il tuo indirizzo email marcofrancescosommaruga@gmail.com p...\n",
      "- Similarità: 0.3569 | Estratto: Accedi a Streamlit Community Cloud Hai richiesto di accedere a Streamlit Community Cloud. Il tuo cod...\n",
      "- Similarità: 0.3103 | Estratto: Buongiorno, Chiedo conferma che i documenti inviati siano ora leggibili e novità sui tempi di reset ...\n"
     ]
    }
   ],
   "source": [
    "import json\n",
    "import re\n",
    "from sentence_transformers import SentenceTransformer, util\n",
    "import numpy as np\n",
    "\n",
    "# Funzione per pulire il testo delle email\n",
    "def clean_email(text):\n",
    "    text = re.sub(r\"(Best regards|Sent from my .*|Thanks,.*|Cheers,.*)\", \"\", text, flags=re.IGNORECASE)\n",
    "    text = re.sub(r\"On .* wrote:\", \"\", text)\n",
    "    text = re.sub(r\"<[^>]+>\", \"\", text)\n",
    "    text = re.sub(r\"\\s+\", \" \", text).strip()\n",
    "    return text\n",
    "\n",
    "# Carica il file JSON con le email\n",
    "with open(\"./data/emails.json\", \"r\", encoding=\"utf-8\") as f:\n",
    "    emails = json.load(f)\n",
    "\n",
    "# Inizializza il modello\n",
    "model = SentenceTransformer(\"all-MiniLM-L6-v2\")\n",
    "\n",
    "# Query di esempio\n",
    "query = \"vorrei trovare la mail che mi permette di trovare informazioni su case in vendita\"\n",
    "query_embedding = model.encode(query, convert_to_tensor=True)\n",
    "\n",
    "# Calcolo delle similarità\n",
    "similarities_raw = []\n",
    "similarities_clean = []\n",
    "\n",
    "for email in emails:\n",
    "    text = email.get(\"body\", \"\")\n",
    "    cleaned_text = clean_email(text)\n",
    "\n",
    "    embedding_raw = model.encode(text, convert_to_tensor=True)\n",
    "    embedding_clean = model.encode(cleaned_text, convert_to_tensor=True)\n",
    "\n",
    "    sim_raw = util.cos_sim(query_embedding, embedding_raw).item()\n",
    "    sim_clean = util.cos_sim(query_embedding, embedding_clean).item()\n",
    "\n",
    "    similarities_raw.append(sim_raw)\n",
    "    similarities_clean.append(sim_clean)\n",
    "\n",
    "# Statistiche\n",
    "avg_raw = np.mean(similarities_raw)\n",
    "avg_clean = np.mean(similarities_clean)\n",
    "\n",
    "print(f\"Similarità media (originali): {avg_raw:.4f}\")\n",
    "print(f\"Similarità media (pulite): {avg_clean:.4f}\")\n",
    "\n",
    "# Top 3 email\n",
    "top_raw_indices = np.argsort(similarities_raw)[-3:][::-1]\n",
    "top_clean_indices = np.argsort(similarities_clean)[-3:][::-1]\n",
    "\n",
    "print(\"\\nTop 3 email (originali):\")\n",
    "for i in top_raw_indices:\n",
    "    print(f\"- Similarità: {similarities_raw[i]:.4f} | Estratto: {emails[i]['body'][:100]}...\")\n",
    "\n",
    "print(\"\\nTop 3 email (pulite):\")\n",
    "for i in top_clean_indices:\n",
    "    print(f\"- Similarità: {similarities_clean[i]:.4f} | Estratto: {clean_email(emails[i]['body'])[:100]}...\")\n"
   ]
  },
  {
   "cell_type": "code",
   "execution_count": null,
   "id": "59b08212",
   "metadata": {},
   "outputs": [],
   "source": []
  }
 ],
 "metadata": {
  "kernelspec": {
   "display_name": ".venv",
   "language": "python",
   "name": "python3"
  },
  "language_info": {
   "codemirror_mode": {
    "name": "ipython",
    "version": 3
   },
   "file_extension": ".py",
   "mimetype": "text/x-python",
   "name": "python",
   "nbconvert_exporter": "python",
   "pygments_lexer": "ipython3",
   "version": "3.13.1"
  }
 },
 "nbformat": 4,
 "nbformat_minor": 5
}
